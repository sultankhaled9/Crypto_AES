{
 "cells": [
  {
   "cell_type": "code",
   "execution_count": 67,
   "metadata": {},
   "outputs": [],
   "source": [
    "from Crypto.Cipher import AES \n",
    "from Crypto.Util import Padding"
   ]
  },
  {
   "cell_type": "code",
   "execution_count": 69,
   "metadata": {},
   "outputs": [],
   "source": [
    "Plaintext = b\"This is a top secret.\"\n",
    "\n",
    "IVH= 'aabbccddeeff00998877665544332211'\n",
    "\n",
    "CipherTextHex = \"764aa26b55a4da654df6b19e4bce00f4ed05e09346fb0e762583cb7da2ac93a2\"\n",
    "\n",
    "IV = bytes.fromhex(IVH)\n",
    "\n",
    "CipherText = bytes.fromhex(CipherTextHex)\n",
    "\n",
    "Key = \"\"\n"
   ]
  },
  {
   "cell_type": "code",
   "execution_count": 70,
   "metadata": {},
   "outputs": [],
   "source": [
    "dir = open(\"/home/seed/Documents/SultanALmansour/Words_list.txt\", \"r\")\n",
    "\n",
    "ALL_worrd = dir.readlines()\n",
    "\n",
    "dir.close()"
   ]
  },
  {
   "cell_type": "code",
   "execution_count": 71,
   "metadata": {},
   "outputs": [],
   "source": [
    "word = []\n",
    "\n",
    "for Word in ALL_worrd:\n",
    "\n",
    "    Word = Word.replace(\"\\n\", \"\")\n",
    "\n",
    "    Word = Word.strip()\n",
    "\n",
    "    word.append(Word)\n"
   ]
  },
  {
   "cell_type": "code",
   "execution_count": 72,
   "metadata": {},
   "outputs": [
    {
     "name": "stdout",
     "output_type": "stream",
     "text": [
      "the secret key  is : Syracuse\n"
     ]
    }
   ],
   "source": [
    "for Word_list in word:\n",
    "    if len(Word_list) <= 16:\n",
    "\n",
    "        The_rest = 16-len(Word_list)\n",
    "\n",
    "        Key_B = Word_list.encode(\"ascii\")+b\"\\x23\"*The_rest \n",
    "        Cipher_T = AES.new(Key_B, AES.MODE_CBC, IV)\n",
    "\n",
    "        New_cipher = Cipher_T.encrypt(Padding.pad(Plaintext, 16))\n",
    "\n",
    "        if CipherText == New_cipher:\n",
    "\n",
    "            Key = Word_list\n",
    "\n",
    "            print(\"the secret key  is :\", Key)"
   ]
  },
  {
   "cell_type": "code",
   "execution_count": null,
   "metadata": {},
   "outputs": [],
   "source": []
  },
  {
   "cell_type": "code",
   "execution_count": null,
   "metadata": {},
   "outputs": [],
   "source": []
  }
 ],
 "metadata": {
  "kernelspec": {
   "display_name": "Python 3",
   "language": "python",
   "name": "python3"
  },
  "language_info": {
   "codemirror_mode": {
    "name": "ipython",
    "version": 3
   },
   "file_extension": ".py",
   "mimetype": "text/x-python",
   "name": "python",
   "nbconvert_exporter": "python",
   "pygments_lexer": "ipython3",
   "version": "3.8.10"
  },
  "orig_nbformat": 4,
  "vscode": {
   "interpreter": {
    "hash": "916dbcbb3f70747c44a77c7bcd40155683ae19c65e1c03b4aa3499c5328201f1"
   }
  }
 },
 "nbformat": 4,
 "nbformat_minor": 2
}
